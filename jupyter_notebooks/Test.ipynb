{
 "cells": [
  {
   "cell_type": "code",
   "execution_count": 1,
   "id": "2346805c",
   "metadata": {},
   "outputs": [
    {
     "name": "stdout",
     "output_type": "stream",
     "text": [
      "First python application\n",
      "12\n"
     ]
    }
   ],
   "source": [
    "print (\"First python application\")\n",
    "print (5+7)"
   ]
  },
  {
   "cell_type": "code",
   "execution_count": 1,
   "id": "5d249a5b",
   "metadata": {},
   "outputs": [
    {
     "name": "stdout",
     "output_type": "stream",
     "text": [
      "6\n"
     ]
    }
   ],
   "source": [
    "list1 = [2,3,4,5,6]\n",
    "\n",
    "print (list1[4])"
   ]
  },
  {
   "cell_type": "code",
   "execution_count": null,
   "id": "bb99b784",
   "metadata": {},
   "outputs": [],
   "source": []
  }
 ],
 "metadata": {
  "kernelspec": {
   "display_name": "Python 3",
   "language": "python",
   "name": "python3"
  },
  "language_info": {
   "codemirror_mode": {
    "name": "ipython",
    "version": 3
   },
   "file_extension": ".py",
   "mimetype": "text/x-python",
   "name": "python",
   "nbconvert_exporter": "python",
   "pygments_lexer": "ipython3",
   "version": "3.8.8"
  }
 },
 "nbformat": 4,
 "nbformat_minor": 5
}
