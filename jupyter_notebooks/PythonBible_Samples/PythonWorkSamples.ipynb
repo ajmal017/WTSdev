{
 "cells": [
  {
   "cell_type": "code",
   "execution_count": 8,
   "id": "faffb3c9",
   "metadata": {},
   "outputs": [],
   "source": [
    "from datetime import datetime as dt\n",
    "\n"
   ]
  },
  {
   "cell_type": "code",
   "execution_count": 17,
   "id": "b87eadd2",
   "metadata": {},
   "outputs": [
    {
     "name": "stdout",
     "output_type": "stream",
     "text": [
      "21 days, 15:16:43.962625\n",
      "5\n",
      "5\n"
     ]
    }
   ],
   "source": [
    "maxdt = dt.strptime('20210515','%Y%m%d')\n",
    "now = dt.now()\n",
    "\n",
    "print(now - maxdt)\n",
    "\n",
    "a = 5\n",
    "\n",
    "print (++a)\n",
    "print (a)"
   ]
  },
  {
   "cell_type": "code",
   "execution_count": 6,
   "id": "6942dafc",
   "metadata": {},
   "outputs": [
    {
     "name": "stdout",
     "output_type": "stream",
     "text": [
      "<class 'enumerate'>\n",
      "(0, 'Apple')\n",
      "<class 'tuple'>\n",
      "(1, 'Ball')\n",
      "<class 'tuple'>\n",
      "(2, 'Cat')\n",
      "<class 'tuple'>\n",
      "(3, 'Dog')\n",
      "<class 'tuple'>\n",
      "(4, 'Elephant')\n",
      "<class 'tuple'>\n"
     ]
    }
   ],
   "source": [
    "# Illustrates enumerators\n",
    "mylist = ['Apple','Ball','Cat','Dog','Elephant']\n",
    "obj = enumerate(mylist)\n",
    "print (type(obj))\n",
    "\n",
    "for myobj in obj:\n",
    "    print(myobj)\n",
    "    print(type(myobj))\n",
    "\n"
   ]
  },
  {
   "cell_type": "code",
   "execution_count": 8,
   "id": "5680cea5",
   "metadata": {},
   "outputs": [
    {
     "name": "stdout",
     "output_type": "stream",
     "text": [
      "23\n"
     ]
    }
   ],
   "source": [
    "mylist = [ 2,5,7,9]\n",
    "print (sum(mylist))"
   ]
  },
  {
   "cell_type": "code",
   "execution_count": null,
   "id": "0d8f21ab",
   "metadata": {},
   "outputs": [],
   "source": []
  }
 ],
 "metadata": {
  "kernelspec": {
   "display_name": "Python 3",
   "language": "python",
   "name": "python3"
  },
  "language_info": {
   "codemirror_mode": {
    "name": "ipython",
    "version": 3
   },
   "file_extension": ".py",
   "mimetype": "text/x-python",
   "name": "python",
   "nbconvert_exporter": "python",
   "pygments_lexer": "ipython3",
   "version": "3.8.8"
  }
 },
 "nbformat": 4,
 "nbformat_minor": 5
}
