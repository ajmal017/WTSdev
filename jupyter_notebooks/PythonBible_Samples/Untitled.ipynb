{
 "cells": [
  {
   "cell_type": "code",
   "execution_count": null,
   "id": "af664524",
   "metadata": {},
   "outputs": [],
   "source": [
    "print (1+5)"
   ]
  },
  {
   "cell_type": "code",
   "execution_count": 4,
   "id": "1ce31da1",
   "metadata": {},
   "outputs": [
    {
     "name": "stdout",
     "output_type": "stream",
     "text": [
      "I am learning python for 7 months\n"
     ]
    }
   ],
   "source": [
    "no_of_months = 7\n",
    "print ('I am learning python for %d months'%(no_of_months))\n",
    "\n"
   ]
  },
  {
   "cell_type": "code",
   "execution_count": null,
   "id": "5cddba47",
   "metadata": {},
   "outputs": [],
   "source": []
  }
 ],
 "metadata": {
  "kernelspec": {
   "display_name": "Python 3",
   "language": "python",
   "name": "python3"
  },
  "language_info": {
   "codemirror_mode": {
    "name": "ipython",
    "version": 3
   },
   "file_extension": ".py",
   "mimetype": "text/x-python",
   "name": "python",
   "nbconvert_exporter": "python",
   "pygments_lexer": "ipython3",
   "version": "3.8.8"
  }
 },
 "nbformat": 4,
 "nbformat_minor": 5
}
