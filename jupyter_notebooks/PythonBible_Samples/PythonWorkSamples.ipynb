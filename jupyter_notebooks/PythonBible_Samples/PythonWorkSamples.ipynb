{
 "cells": [
  {
   "cell_type": "code",
   "execution_count": 4,
   "id": "faffb3c9",
   "metadata": {},
   "outputs": [],
   "source": [
    "from datetime import datetime as dt\n",
    "import pandas as pd\n",
    "import matplotlib as plt\n",
    "#import psycopg2\n",
    "\n",
    "#import wtsdblib as db\n"
   ]
  },
  {
   "cell_type": "code",
   "execution_count": 13,
   "id": "b87eadd2",
   "metadata": {},
   "outputs": [
    {
     "name": "stdout",
     "output_type": "stream",
     "text": [
      "39 days, 1:35:33.527168\n",
      "5\n",
      "5\n"
     ]
    }
   ],
   "source": [
    "maxdt = dt.strptime('20210515','%Y%m%d')\n",
    "now = dt.now()\n",
    "\n",
    "print(now - maxdt)\n",
    "\n",
    "a = 5\n",
    "\n",
    "print (++a)\n",
    "print (a)"
   ]
  },
  {
   "cell_type": "code",
   "execution_count": null,
   "id": "6942dafc",
   "metadata": {},
   "outputs": [],
   "source": [
    "# Illustrates enumerators\n",
    "mylist = ['Apple','Ball','Cat','Dog','Elephant']\n",
    "obj = enumerate(mylist)\n",
    "print (type(obj))\n",
    "\n",
    "for myobj in obj:\n",
    "    print(myobj)\n",
    "    print(type(myobj))\n",
    "\n"
   ]
  },
  {
   "cell_type": "code",
   "execution_count": null,
   "id": "5680cea5",
   "metadata": {},
   "outputs": [],
   "source": [
    "mylist = [ 2,5,7,9]\n",
    "print (sum(mylist))"
   ]
  },
  {
   "cell_type": "code",
   "execution_count": 1,
   "id": "0d8f21ab",
   "metadata": {},
   "outputs": [
    {
     "ename": "ModuleNotFoundError",
     "evalue": "No module named 'psycopg2'",
     "output_type": "error",
     "traceback": [
      "\u001b[0;31m---------------------------------------------------------------------------\u001b[0m",
      "\u001b[0;31mModuleNotFoundError\u001b[0m                       Traceback (most recent call last)",
      "\u001b[0;32m<ipython-input-1-aab35979b892>\u001b[0m in \u001b[0;36m<module>\u001b[0;34m\u001b[0m\n\u001b[1;32m      1\u001b[0m \u001b[0;32mimport\u001b[0m \u001b[0mpandas\u001b[0m \u001b[0;32mas\u001b[0m \u001b[0mpd\u001b[0m\u001b[0;34m\u001b[0m\u001b[0;34m\u001b[0m\u001b[0m\n\u001b[1;32m      2\u001b[0m \u001b[0;32mimport\u001b[0m \u001b[0mmatplotlib\u001b[0m \u001b[0;32mas\u001b[0m \u001b[0mplt\u001b[0m\u001b[0;34m\u001b[0m\u001b[0;34m\u001b[0m\u001b[0m\n\u001b[0;32m----> 3\u001b[0;31m \u001b[0;32mimport\u001b[0m \u001b[0mpsycopg2\u001b[0m\u001b[0;34m\u001b[0m\u001b[0;34m\u001b[0m\u001b[0m\n\u001b[0m\u001b[1;32m      4\u001b[0m \u001b[0;34m\u001b[0m\u001b[0m\n\u001b[1;32m      5\u001b[0m \u001b[0;32mimport\u001b[0m \u001b[0mwtsdblib\u001b[0m \u001b[0;32mas\u001b[0m \u001b[0mdb\u001b[0m\u001b[0;34m\u001b[0m\u001b[0;34m\u001b[0m\u001b[0m\n",
      "\u001b[0;31mModuleNotFoundError\u001b[0m: No module named 'psycopg2'"
     ]
    }
   ],
   "source": [
    "import pandas as pd\n",
    "import matplotlib as plt\n",
    "import psycopg2\n",
    "\n",
    "import wtsdblib as db\n",
    "\n",
    "dbconn = db.connect(user=\"postgres\",\n",
    "                             password=\"Pas2021!\",\n",
    "                             host=\"172.17.0.2\",\n",
    "                             port=\"5432\",\n",
    "                             database=\"wtsdev\")\n",
    "dbcursor = dbconn.cursor()\n",
    "dbquery= '''select ied.\"Volume\" as ibkr_volume, ned.\"VOLUME\" nse_volume\n",
    "            from wtst.\"IBKR_EOD_DATA\" ied, wtst.\"NSE_EOD_DATA\" ned \n",
    "            where ied.\"IBKR_SYMBOL\" = ned.\"SYMBOL\" AND\n",
    "            ied.\"IBKR_SYMBOL\" = 'RELIANCE'\n",
    "            and ied.\"Date\" = ned.\"DATE\"\n",
    "            and ied.\"Volume\" != ned.\"VOLUME\"'''\n",
    "dbcursor.execute(dbquery)\n",
    "dbrecordset = dbcursor.fetchall()\n",
    "\n",
    "df = pd.DataFrame(dbrecordset,['ibkr_volume','nse_volume'])\n",
    "print(df)\n",
    "#df['ibkr_volume'].plot()\n",
    "#plt.show()\n",
    "dbcursor.close()"
   ]
  },
  {
   "cell_type": "code",
   "execution_count": 37,
   "id": "e0747b32",
   "metadata": {},
   "outputs": [
    {
     "name": "stdout",
     "output_type": "stream",
     "text": [
      "Empty Dictionary: \n",
      "\n",
      "Dictionary with the use of dict(): \n",
      "\n",
      "Dictionary with each item as a pair: \n",
      "For\n"
     ]
    }
   ],
   "source": [
    "# Creating an empty Dictionary\n",
    "Dict = {}\n",
    "print(\"Empty Dictionary: \")\n",
    "#print(Dict)\n",
    "  \n",
    "# Creating a Dictionary\n",
    "# with dict() method\n",
    "Dict = dict({1: 'Geeks', 2: 'For', 3:'Geeks'})\n",
    "print(\"\\nDictionary with the use of dict(): \")\n",
    "#print(Dict)\n",
    "  \n",
    "# Creating a Dictionary\n",
    "# with each item as a Pair\n",
    "Dict = dict([(1, 'Geeks'), (2, 'For')])\n",
    "print(\"\\nDictionary with each item as a pair: \")\n",
    "print(Dict[2])\n"
   ]
  },
  {
   "cell_type": "code",
   "execution_count": 32,
   "id": "194037e3",
   "metadata": {},
   "outputs": [
    {
     "name": "stdout",
     "output_type": "stream",
     "text": [
      "20210623021101\n",
      "20210622  14:42:00\n"
     ]
    }
   ],
   "source": [
    "t1 = dt.strftime(dt.now(),\"%Y%m%d%H%M%S\")\n",
    "print (t1)\n",
    "\n",
    "# Milliseconds to time format.\n",
    "timeinseconds = int(1624353120/1000)\n",
    "\n",
    "print (dt.strftime(dt.fromtimestamp(1624353120),\"%Y%m%d  %H:%M:%S\"))\n",
    "# 20210622  09:48:55"
   ]
  },
  {
   "cell_type": "code",
   "execution_count": 54,
   "id": "cd1655ed",
   "metadata": {},
   "outputs": [
    {
     "name": "stdout",
     "output_type": "stream",
     "text": [
      "             client_proc Queue\n",
      "client_index                  \n",
      "0                   None    Q1\n"
     ]
    }
   ],
   "source": [
    "import pandas as pd\n",
    "\n",
    "r1 = dict({'client_index': 0, 'client_proc': None, 'Queue': 'Q1'})\n",
    "df = pd.DataFrame.from_records([r1],index='client_index')\n",
    "print (df)"
   ]
  },
  {
   "cell_type": "code",
   "execution_count": 11,
   "id": "40b4b4b6",
   "metadata": {},
   "outputs": [
    {
     "name": "stdout",
     "output_type": "stream",
     "text": [
      "P1\n"
     ]
    }
   ],
   "source": [
    "\n",
    "client_df = pd.DataFrame()\n",
    "r1 = dict({'client_index': 0, 'process': 'P1'})\n",
    "df = pd.DataFrame.from_records([r1],index='client_index')\n",
    "client_df = client_df.append(df)\n",
    "\n",
    "r1 = dict({'client_index': 1, 'process': 'P2'})\n",
    "df = pd.DataFrame.from_records([r1],index='client_index')\n",
    "client_df = client_df.append(df)\n",
    "\n",
    "print(client_df['process'][0])"
   ]
  },
  {
   "cell_type": "code",
   "execution_count": null,
   "id": "64cbc268",
   "metadata": {},
   "outputs": [],
   "source": [
    "import numpy as np\n",
    "import pandas as pd\n",
    "\n",
    "\n"
   ]
  }
 ],
 "metadata": {
  "kernelspec": {
   "display_name": "Python 3",
   "language": "python",
   "name": "python3"
  },
  "language_info": {
   "codemirror_mode": {
    "name": "ipython",
    "version": 3
   },
   "file_extension": ".py",
   "mimetype": "text/x-python",
   "name": "python",
   "nbconvert_exporter": "python",
   "pygments_lexer": "ipython3",
   "version": "3.8.8"
  }
 },
 "nbformat": 4,
 "nbformat_minor": 5
}
