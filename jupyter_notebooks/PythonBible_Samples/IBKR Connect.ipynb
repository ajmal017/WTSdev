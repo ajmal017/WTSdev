{
 "cells": [
  {
   "cell_type": "code",
   "execution_count": 1,
   "id": "e248fb3a",
   "metadata": {},
   "outputs": [],
   "source": [
    "from ibapi.client import EClient\n",
    "from ibapi.wrapper import EWrapper"
   ]
  },
  {
   "cell_type": "code",
   "execution_count": null,
   "id": "5e977310",
   "metadata": {},
   "outputs": [],
   "source": [
    "\n",
    "client = EClient.(wrapper)\n",
    "client.connect (\"157.46.98.104\", 7497,0)\n"
   ]
  },
  {
   "cell_type": "code",
   "execution_count": 6,
   "id": "a313905a",
   "metadata": {},
   "outputs": [],
   "source": [
    "from ibapi.client import EClient\n",
    "from ibapi.wrapper import EWrapper\n",
    "\n",
    "class SampleClient (EWrapper, EClient):\n",
    "    def __init__(self, addr, port,client_id):\n",
    "        EWrapper.__init__(self)\n",
    "        EClient.__init__(self,self)\n",
    "\n",
    "        # Connect to TWS\n",
    "        self.connect(addr, port, client_id)\n",
    "        \n",
    "        #Launch the client thread\n",
    "        thread = Thread(target=self.run)\n",
    "        thread.start()\n",
    "        \n",
    "    #@iswrapper\n",
    "    def CurrentTime(self, cur_time):\n",
    "        t = datetime.fromtimestamp(cur_time)\n",
    "        print ('Current time: {}'.format(t))\n",
    "        \n",
    "    #@iswrapper\n",
    "    def error(self,req_id,code,msg):\n",
    "        print ('Error {}: {}'.format(code, msg))\n",
    "        \n",
    "def main():\n",
    "    # Create the client and connect to TWS\n",
    "    ee\n",
    "    client = SimpleClient('192.168.199.59', 7497,0)\n",
    "    ee\n",
    "    client.reqCurrentTime()\n",
    "    ee\n",
    "    #Sleep while the request is processed\n",
    "    time.sleep(2500)\n",
    "    ee\n",
    "    #Disconnect from TWS\n",
    "    client.disconnect()\n",
    "    print ('Done')\n",
    "    \n",
    "    \n",
    "\n",
    "\n"
   ]
  },
  {
   "cell_type": "code",
   "execution_count": null,
   "id": "5726dc5d",
   "metadata": {},
   "outputs": [],
   "source": []
  },
  {
   "cell_type": "code",
   "execution_count": null,
   "id": "33c4704a",
   "metadata": {},
   "outputs": [],
   "source": []
  }
 ],
 "metadata": {
  "kernelspec": {
   "display_name": "Python 3",
   "language": "python",
   "name": "python3"
  },
  "language_info": {
   "codemirror_mode": {
    "name": "ipython",
    "version": 3
   },
   "file_extension": ".py",
   "mimetype": "text/x-python",
   "name": "python",
   "nbconvert_exporter": "python",
   "pygments_lexer": "ipython3",
   "version": "3.8.8"
  }
 },
 "nbformat": 4,
 "nbformat_minor": 5
}
